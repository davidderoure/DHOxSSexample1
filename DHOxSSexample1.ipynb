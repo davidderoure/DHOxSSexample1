{
 "cells": [
  {
   "cell_type": "markdown",
   "id": "2dc524c7",
   "metadata": {},
   "source": [
    "DHOxSS Computational thinking Example 1 - Concordance"
   ]
  },
  {
   "cell_type": "markdown",
   "id": "f6e7b18c",
   "metadata": {},
   "source": [
    "The Natural Language Toolkit (NLTK) provides a library of text processing tools and access to some corpora - for more info see https://www.nltk.org/"
   ]
  },
  {
   "cell_type": "markdown",
   "id": "2885a7f6",
   "metadata": {},
   "source": [
    "The following lines of python code simply set up the library for use - these do not need to be changed"
   ]
  },
  {
   "cell_type": "code",
   "execution_count": 18,
   "id": "a23ce6b3",
   "metadata": {},
   "outputs": [
    {
     "name": "stderr",
     "output_type": "stream",
     "text": [
      "[nltk_data] Downloading package punkt to\n",
      "[nltk_data]     /Users/davidderoure/nltk_data...\n",
      "[nltk_data]   Package punkt is already up-to-date!\n",
      "[nltk_data] Downloading package averaged_perceptron_tagger to\n",
      "[nltk_data]     /Users/davidderoure/nltk_data...\n",
      "[nltk_data]   Package averaged_perceptron_tagger is already up-to-\n",
      "[nltk_data]       date!\n",
      "[nltk_data] Downloading package gutenberg to\n",
      "[nltk_data]     /Users/davidderoure/nltk_data...\n",
      "[nltk_data]   Package gutenberg is already up-to-date!\n"
     ]
    },
    {
     "data": {
      "text/plain": [
       "True"
      ]
     },
     "execution_count": 18,
     "metadata": {},
     "output_type": "execute_result"
    }
   ],
   "source": [
    "import nltk\n",
    "from nltk.tokenize import sent_tokenize, word_tokenize\n",
    "nltk.download('punkt')\n",
    "nltk.download('averaged_perceptron_tagger')\n",
    "nltk.download('gutenberg')"
   ]
  },
  {
   "cell_type": "markdown",
   "id": "c342a98d",
   "metadata": {},
   "source": [
    "Here we create a small sample of text to experiment with"
   ]
  },
  {
   "cell_type": "code",
   "execution_count": 2,
   "id": "b3d65f1d",
   "metadata": {},
   "outputs": [],
   "source": [
    "txt=\"\"\"\n",
    "It is a truth universally acknowledged, that a single man in possession of a good fortune must\n",
    "be in want of a wife. However little known the feelings or views of such a man may be on his\n",
    "first entering a neighbourhood, this truth is so well fixed in the minds of the surrounding\n",
    "families, that he is considered as the rightful property of some one or other of their daughters.\"\"\"\n"
   ]
  },
  {
   "cell_type": "markdown",
   "id": "b2df04c3",
   "metadata": {},
   "source": [
    "Now we ask python to show us this text (if there are line breaks they appear as \\n) "
   ]
  },
  {
   "cell_type": "code",
   "execution_count": 3,
   "id": "52eaf68a",
   "metadata": {},
   "outputs": [
    {
     "data": {
      "text/plain": [
       "'\\nIt is a truth universally acknowledged, that a single man in possession of a good fortune must\\nbe in want of a wife. However little known the feelings or views of such a man may be on his\\nfirst entering a neighbourhood, this truth is so well fixed in the minds of the surrounding\\nfamilies, that he is considered as the rightful property of some one or other of their daughters.'"
      ]
     },
     "execution_count": 3,
     "metadata": {},
     "output_type": "execute_result"
    }
   ],
   "source": [
    "txt"
   ]
  },
  {
   "cell_type": "markdown",
   "id": "887d4c3c",
   "metadata": {},
   "source": [
    "We use the NLTK sentence tokenizer to identify the individual sentences - it gives us a list of sentences, using the list syntax [ item, item, item, ... ]"
   ]
  },
  {
   "cell_type": "code",
   "execution_count": 4,
   "id": "8f0e7879",
   "metadata": {},
   "outputs": [
    {
     "data": {
      "text/plain": [
       "['\\nIt is a truth universally acknowledged, that a single man in possession of a good fortune must\\nbe in want of a wife.',\n",
       " 'However little known the feelings or views of such a man may be on his\\nfirst entering a neighbourhood, this truth is so well fixed in the minds of the surrounding\\nfamilies, that he is considered as the rightful property of some one or other of their daughters.']"
      ]
     },
     "execution_count": 4,
     "metadata": {},
     "output_type": "execute_result"
    }
   ],
   "source": [
    "sents = sent_tokenize(txt)\n",
    "sents"
   ]
  },
  {
   "cell_type": "markdown",
   "id": "caa9d04a",
   "metadata": {},
   "source": [
    "Check the length of the list of sentences"
   ]
  },
  {
   "cell_type": "code",
   "execution_count": 5,
   "id": "64bba2b1",
   "metadata": {},
   "outputs": [
    {
     "data": {
      "text/plain": [
       "2"
      ]
     },
     "execution_count": 5,
     "metadata": {},
     "output_type": "execute_result"
    }
   ],
   "source": [
    "len(sents)"
   ]
  },
  {
   "cell_type": "markdown",
   "id": "d41ddc4b",
   "metadata": {},
   "source": [
    "Print on the screen each of the sentences in the list "
   ]
  },
  {
   "cell_type": "code",
   "execution_count": 6,
   "id": "4df2d33f",
   "metadata": {},
   "outputs": [
    {
     "name": "stdout",
     "output_type": "stream",
     "text": [
      "\n",
      "It is a truth universally acknowledged, that a single man in possession of a good fortune must\n",
      "be in want of a wife.\n",
      "However little known the feelings or views of such a man may be on his\n",
      "first entering a neighbourhood, this truth is so well fixed in the minds of the surrounding\n",
      "families, that he is considered as the rightful property of some one or other of their daughters.\n"
     ]
    }
   ],
   "source": [
    "for s in sents:\n",
    "    print(s)"
   ]
  },
  {
   "cell_type": "markdown",
   "id": "1f19df02",
   "metadata": {},
   "source": [
    "Now print the lengths of each sentence - these are numbers of characters"
   ]
  },
  {
   "cell_type": "code",
   "execution_count": 7,
   "id": "9a2bb4f5",
   "metadata": {},
   "outputs": [
    {
     "name": "stdout",
     "output_type": "stream",
     "text": [
      "117\n",
      "260\n"
     ]
    }
   ],
   "source": [
    "for s in sents:\n",
    "    print(len(s))"
   ]
  },
  {
   "cell_type": "markdown",
   "id": "d00fe43c",
   "metadata": {},
   "source": [
    "Now we tokenize into words instead of sentences"
   ]
  },
  {
   "cell_type": "code",
   "execution_count": 8,
   "id": "b9545c8f",
   "metadata": {},
   "outputs": [
    {
     "name": "stdout",
     "output_type": "stream",
     "text": [
      "['It', 'is', 'a', 'truth', 'universally', 'acknowledged', ',', 'that', 'a', 'single', 'man', 'in', 'possession', 'of', 'a', 'good', 'fortune', 'must', 'be', 'in', 'want', 'of', 'a', 'wife', '.', 'However', 'little', 'known', 'the', 'feelings', 'or', 'views', 'of', 'such', 'a', 'man', 'may', 'be', 'on', 'his', 'first', 'entering', 'a', 'neighbourhood', ',', 'this', 'truth', 'is', 'so', 'well', 'fixed', 'in', 'the', 'minds', 'of', 'the', 'surrounding', 'families', ',', 'that', 'he', 'is', 'considered', 'as', 'the', 'rightful', 'property', 'of', 'some', 'one', 'or', 'other', 'of', 'their', 'daughters', '.']\n"
     ]
    }
   ],
   "source": [
    "words = word_tokenize(txt)\n",
    "print(words)"
   ]
  },
  {
   "cell_type": "code",
   "execution_count": 9,
   "id": "9bf7dffd",
   "metadata": {},
   "outputs": [
    {
     "data": {
      "text/plain": [
       "76"
      ]
     },
     "execution_count": 9,
     "metadata": {},
     "output_type": "execute_result"
    }
   ],
   "source": [
    "len(words)"
   ]
  },
  {
   "cell_type": "markdown",
   "id": "e2ec2be1",
   "metadata": {},
   "source": [
    "To demonstrate a simple automated task which the computer can perform easily, here we use the NLTK library to identify parts of speech"
   ]
  },
  {
   "cell_type": "code",
   "execution_count": 10,
   "id": "7da4a7fe",
   "metadata": {},
   "outputs": [
    {
     "data": {
      "text/plain": [
       "[('It', 'PRP'),\n",
       " ('is', 'VBZ'),\n",
       " ('a', 'DT'),\n",
       " ('truth', 'NN'),\n",
       " ('universally', 'RB'),\n",
       " ('acknowledged', 'VBD'),\n",
       " (',', ','),\n",
       " ('that', 'IN'),\n",
       " ('a', 'DT'),\n",
       " ('single', 'JJ'),\n",
       " ('man', 'NN'),\n",
       " ('in', 'IN'),\n",
       " ('possession', 'NN'),\n",
       " ('of', 'IN'),\n",
       " ('a', 'DT'),\n",
       " ('good', 'JJ'),\n",
       " ('fortune', 'NN'),\n",
       " ('must', 'MD'),\n",
       " ('be', 'VB'),\n",
       " ('in', 'IN'),\n",
       " ('want', 'NN'),\n",
       " ('of', 'IN'),\n",
       " ('a', 'DT'),\n",
       " ('wife', 'NN'),\n",
       " ('.', '.'),\n",
       " ('However', 'RB'),\n",
       " ('little', 'JJ'),\n",
       " ('known', 'VBN'),\n",
       " ('the', 'DT'),\n",
       " ('feelings', 'NNS'),\n",
       " ('or', 'CC'),\n",
       " ('views', 'NNS'),\n",
       " ('of', 'IN'),\n",
       " ('such', 'JJ'),\n",
       " ('a', 'DT'),\n",
       " ('man', 'NN'),\n",
       " ('may', 'MD'),\n",
       " ('be', 'VB'),\n",
       " ('on', 'IN'),\n",
       " ('his', 'PRP$'),\n",
       " ('first', 'JJ'),\n",
       " ('entering', 'VBG'),\n",
       " ('a', 'DT'),\n",
       " ('neighbourhood', 'NN'),\n",
       " (',', ','),\n",
       " ('this', 'DT'),\n",
       " ('truth', 'NN'),\n",
       " ('is', 'VBZ'),\n",
       " ('so', 'RB'),\n",
       " ('well', 'RB'),\n",
       " ('fixed', 'VBN'),\n",
       " ('in', 'IN'),\n",
       " ('the', 'DT'),\n",
       " ('minds', 'NNS'),\n",
       " ('of', 'IN'),\n",
       " ('the', 'DT'),\n",
       " ('surrounding', 'VBG'),\n",
       " ('families', 'NNS'),\n",
       " (',', ','),\n",
       " ('that', 'IN'),\n",
       " ('he', 'PRP'),\n",
       " ('is', 'VBZ'),\n",
       " ('considered', 'VBN'),\n",
       " ('as', 'IN'),\n",
       " ('the', 'DT'),\n",
       " ('rightful', 'JJ'),\n",
       " ('property', 'NN'),\n",
       " ('of', 'IN'),\n",
       " ('some', 'DT'),\n",
       " ('one', 'CD'),\n",
       " ('or', 'CC'),\n",
       " ('other', 'JJ'),\n",
       " ('of', 'IN'),\n",
       " ('their', 'PRP$'),\n",
       " ('daughters', 'NNS'),\n",
       " ('.', '.')]"
      ]
     },
     "execution_count": 10,
     "metadata": {},
     "output_type": "execute_result"
    }
   ],
   "source": [
    "wordpos=nltk.pos_tag(words)\n",
    "wordpos"
   ]
  },
  {
   "cell_type": "markdown",
   "id": "2db816d9",
   "metadata": {},
   "source": [
    "This is an alternative way of printing out all the items in a list"
   ]
  },
  {
   "cell_type": "code",
   "execution_count": 11,
   "id": "18aec7f8",
   "metadata": {},
   "outputs": [
    {
     "name": "stdout",
     "output_type": "stream",
     "text": [
      "('It', 'PRP') ('is', 'VBZ') ('a', 'DT') ('truth', 'NN') ('universally', 'RB') ('acknowledged', 'VBD') (',', ',') ('that', 'IN') ('a', 'DT') ('single', 'JJ') ('man', 'NN') ('in', 'IN') ('possession', 'NN') ('of', 'IN') ('a', 'DT') ('good', 'JJ') ('fortune', 'NN') ('must', 'MD') ('be', 'VB') ('in', 'IN') ('want', 'NN') ('of', 'IN') ('a', 'DT') ('wife', 'NN') ('.', '.') ('However', 'RB') ('little', 'JJ') ('known', 'VBN') ('the', 'DT') ('feelings', 'NNS') ('or', 'CC') ('views', 'NNS') ('of', 'IN') ('such', 'JJ') ('a', 'DT') ('man', 'NN') ('may', 'MD') ('be', 'VB') ('on', 'IN') ('his', 'PRP$') ('first', 'JJ') ('entering', 'VBG') ('a', 'DT') ('neighbourhood', 'NN') (',', ',') ('this', 'DT') ('truth', 'NN') ('is', 'VBZ') ('so', 'RB') ('well', 'RB') ('fixed', 'VBN') ('in', 'IN') ('the', 'DT') ('minds', 'NNS') ('of', 'IN') ('the', 'DT') ('surrounding', 'VBG') ('families', 'NNS') (',', ',') ('that', 'IN') ('he', 'PRP') ('is', 'VBZ') ('considered', 'VBN') ('as', 'IN') ('the', 'DT') ('rightful', 'JJ') ('property', 'NN') ('of', 'IN') ('some', 'DT') ('one', 'CD') ('or', 'CC') ('other', 'JJ') ('of', 'IN') ('their', 'PRP$') ('daughters', 'NNS') ('.', '.')\n"
     ]
    }
   ],
   "source": [
    "print(*wordpos)"
   ]
  },
  {
   "cell_type": "markdown",
   "id": "20511318",
   "metadata": {},
   "source": [
    "We print out all the nouns, indicated by: \n",
    "NN \t    Noun, singular or mass\n",
    "NNP \tProper noun, singular\n",
    "NNS \tNoun, plural\n",
    "NNPS \tProper noun, plural "
   ]
  },
  {
   "cell_type": "code",
   "execution_count": 12,
   "id": "098929f5",
   "metadata": {},
   "outputs": [
    {
     "name": "stdout",
     "output_type": "stream",
     "text": [
      "truth\n",
      "man\n",
      "possession\n",
      "fortune\n",
      "want\n",
      "wife\n",
      "feelings\n",
      "views\n",
      "man\n",
      "neighbourhood\n",
      "truth\n",
      "minds\n",
      "families\n",
      "property\n",
      "daughters\n"
     ]
    }
   ],
   "source": [
    "for word,pos in wordpos:\n",
    "         if (pos == 'NN' or pos == 'NNP' or pos == 'NNS' or pos == 'NNPS'):\n",
    "             print(word)"
   ]
  },
  {
   "cell_type": "markdown",
   "id": "4aede224",
   "metadata": {},
   "source": [
    "Now we use a larger amount of text. This line of code gives us the names of the available texts"
   ]
  },
  {
   "cell_type": "code",
   "execution_count": 13,
   "id": "114ca82c",
   "metadata": {},
   "outputs": [
    {
     "data": {
      "text/plain": [
       "['austen-emma.txt',\n",
       " 'austen-persuasion.txt',\n",
       " 'austen-sense.txt',\n",
       " 'bible-kjv.txt',\n",
       " 'blake-poems.txt',\n",
       " 'bryant-stories.txt',\n",
       " 'burgess-busterbrown.txt',\n",
       " 'carroll-alice.txt',\n",
       " 'chesterton-ball.txt',\n",
       " 'chesterton-brown.txt',\n",
       " 'chesterton-thursday.txt',\n",
       " 'edgeworth-parents.txt',\n",
       " 'melville-moby_dick.txt',\n",
       " 'milton-paradise.txt',\n",
       " 'shakespeare-caesar.txt',\n",
       " 'shakespeare-hamlet.txt',\n",
       " 'shakespeare-macbeth.txt',\n",
       " 'whitman-leaves.txt']"
      ]
     },
     "execution_count": 13,
     "metadata": {},
     "output_type": "execute_result"
    }
   ],
   "source": [
    "nltk.corpus.gutenberg.fileids()"
   ]
  },
  {
   "cell_type": "markdown",
   "id": "0a590fc3",
   "metadata": {},
   "source": [
    "We choose one of them to work with"
   ]
  },
  {
   "cell_type": "code",
   "execution_count": 14,
   "id": "6bb7d9bd",
   "metadata": {},
   "outputs": [],
   "source": [
    "emma = nltk.text.Text(nltk.corpus.gutenberg.words('austen-emma.txt'))"
   ]
  },
  {
   "cell_type": "markdown",
   "id": "dace76c5",
   "metadata": {},
   "source": [
    "Now we try generating concordances for some individual words"
   ]
  },
  {
   "cell_type": "code",
   "execution_count": 15,
   "id": "e46b4d6b",
   "metadata": {},
   "outputs": [
    {
     "name": "stdout",
     "output_type": "stream",
     "text": [
      "Displaying 25 of 235 matches:\n",
      "ss for her friend . Mr . Weston was a man of unexceptionable character , easy f\n",
      "of mind or body , he was a much older man in ways than in years ; and though ev\n",
      "s required support . He was a nervous man , easily depressed ; fond of every bo\n",
      "ood - humoured , pleasant , excellent man , that he thoroughly deserves a good \n",
      "cessary . Mr . Knightley , a sensible man about seven or eight - and - thirty ,\n",
      " \" A straightforward , open - hearted man like Weston , and a rational , unaffe\n",
      "\" \" Mr . Elton is a very pretty young man , to be sure , and a very good young \n",
      " , to be sure , and a very good young man , and I have a great regard for him .\n",
      "use his own wife . Depend upon it , a man of six or seven - and - twenty can ta\n",
      "s ' marriage , he was rather a poorer man than at first , and with a child to m\n",
      "hrough . He had never been an unhappy man ; his own temper had secured him from\n",
      "nd report of him as a very fine young man had made Highbury feel a sort of prid\n",
      "d a very favourable idea of the young man ; and such a pleasing attention was a\n",
      "ry was an intelligent , gentlemanlike man , whose frequent visits were one of t\n",
      "ightley ; and by Mr . Elton , a young man living alone without liking it , the \n",
      "ing something or other , was a single man ; that there was no young Mrs . Marti\n",
      " \" Mr . Martin , I suppose , is not a man of information beyond the line of his\n",
      "uestion was -- \" What sort of looking man is Mr . Martin ?\" \" Oh ! not handsome\n",
      "of his being a very respectable young man . I know , indeed , that he is so , a\n",
      "ry comfortably . They have no indoors man , else they do not want for any thing\n",
      "alarming symptoms of love . The young man had been the first admirer , but she \n",
      ", and he looked like a sensible young man , but his person had no other advanta\n",
      " But Mr . Knightley is so very fine a man !\" \" Mr . Knightley ' s air is so rem\n",
      "ce . But Mr . Weston is almost an old man . Mr . Weston must be between forty a\n",
      "just as it should be , for a thriving man . What has he to do with books ? And \n"
     ]
    }
   ],
   "source": [
    "emma.concordance(\"man\")"
   ]
  },
  {
   "cell_type": "code",
   "execution_count": 16,
   "id": "1d79994e",
   "metadata": {},
   "outputs": [
    {
     "name": "stdout",
     "output_type": "stream",
     "text": [
      "Displaying 25 of 131 matches:\n",
      "ce had been supplied by an excellent woman as governess , who had fallen little\n",
      "Weston , and a rational , unaffected woman like Miss Taylor , may be safely lef\n",
      "ways longed for -- enough to marry a woman as portionless even as Miss Taylor ,\n",
      "l a well - judging and truly amiable woman could be , and must give him the ple\n",
      "on of it . The aunt was a capricious woman , and governed her husband entirely \n",
      " . She felt herself a most fortunate woman ; and she had lived long enough to k\n",
      " uncommon degree of popularity for a woman neither young , handsome , rich , no\n",
      "s possible . And yet she was a happy woman , and a woman whom no one named with\n",
      "nd yet she was a happy woman , and a woman whom no one named without good - wil\n",
      ". She was a plain , motherly kind of woman , who had worked hard in her youth ,\n",
      "could meet with a good sort of young woman in the same rank as his own , with a\n",
      " he marries a very ignorant , vulgar woman , certainly I had better not visit h\n",
      "ing young man , a young man whom any woman not fastidious might like . He was r\n",
      "can be a good judge of the comfort a woman feels in the society of one of her o\n",
      "mith . She is not the superior young woman which Emma ' s friend ought to be . \n",
      "s , and yet it is not the style of a woman ; no , certainly , it is too strong \n",
      "d concise ; not diffuse enough for a woman . No doubt he is a sensible man , an\n",
      "a general rule , Harriet , that if a woman _doubts_ as to whether she should ac\n",
      "e friend . We will not be parted . A woman is not to marry a man merely because\n",
      "d hands she will turn out a valuable woman .\" \" I am glad you think so ; and th\n",
      "ays incomprehensible to a man that a woman should ever refuse an offer of marri\n",
      "f marriage . A man always imagines a woman to be ready for any body who asks he\n",
      "too much real feeling to address any woman on the haphazard of selfish passion \n",
      "d such temper , the highest claims a woman could possess .\" \" Upon my word , Em\n",
      "lf , ever to marry , she is the very woman for you . And is she , at seventeen \n"
     ]
    }
   ],
   "source": [
    "emma.concordance(\"woman\")"
   ]
  },
  {
   "cell_type": "code",
   "execution_count": 17,
   "id": "c7fbc66e",
   "metadata": {},
   "outputs": [
    {
     "name": "stdout",
     "output_type": "stream",
     "text": [
      "Displaying 25 of 35 matches:\n",
      "re can be no doubt of your being a gentleman ' s daughter , and you must suppor\n",
      "Knightley . But he is not the only gentleman you have been lately used to . Wha\n",
      "tion was most suitable , quite the gentleman himself , and without low connexio\n",
      "\"-- unclosing a pretty sketch of a gentleman in small size , whole - length --\"\n",
      "tion it would not have disgraced a gentleman ; the language , though plain , wa\n",
      "ied to a respectable , intelligent gentleman - farmer !\" \" As to the circumstan\n",
      "ly be a doubt that her father is a gentleman -- and a gentleman of fortune .-- \n",
      "her father is a gentleman -- and a gentleman of fortune .-- Her allowance is ve\n",
      "ement or comfort .-- That she is a gentleman ' s daughter , is indubitable to m\n",
      " gentlemen are ; and nothing but a gentleman in education and manner has any ch\n",
      " , \" Oh ! dear , yes ,\" before the gentleman joined them . The wants and suffer\n",
      ". Mr . John Knightley was a tall , gentleman - like , and very clever man ; ris\n",
      "modern days indeed have rendered a gentleman ' s carriage perfectly complete . \n",
      "countenance was necessary for each gentleman as they walked into Mrs . Weston '\n",
      " of her other complaint before the gentleman ' s return . She went to Mrs . God\n",
      "was _very_ _well_ _married_ , to a gentleman in a _great_ _way_ , near Bristol \n",
      "u should do ,\" said she ; \" like a gentleman .-- I am quite glad to see you .\" \n",
      " have discerned me to be more of a gentleman than usual .-- You might not have \n",
      "ligence passed between her and the gentleman on first glancing towards Miss Fai\n",
      "is friend . Knightley is quite the gentleman . I like him very much . Decidedly\n",
      "uch . Decidedly , I think , a very gentleman - like man .\" Happily , it was now\n",
      "tley !-- and discover that he is a gentleman ! A little upstart , vulgar being \n",
      " discover that Mr . Knightley is a gentleman ! I doubt whether he will return t\n",
      "a smile at her . \" I never saw any gentleman ' s handwriting \"-- Emma began , l\n",
      "k Churchill writes one of the best gentleman ' s hands I ever saw .\" \" I do not\n"
     ]
    }
   ],
   "source": [
    "emma.concordance(\"gentleman\")"
   ]
  },
  {
   "cell_type": "code",
   "execution_count": null,
   "id": "02709ffe",
   "metadata": {},
   "outputs": [],
   "source": []
  }
 ],
 "metadata": {
  "kernelspec": {
   "display_name": "Python 3 (ipykernel)",
   "language": "python",
   "name": "python3"
  },
  "language_info": {
   "codemirror_mode": {
    "name": "ipython",
    "version": 3
   },
   "file_extension": ".py",
   "mimetype": "text/x-python",
   "name": "python",
   "nbconvert_exporter": "python",
   "pygments_lexer": "ipython3",
   "version": "3.10.7"
  }
 },
 "nbformat": 4,
 "nbformat_minor": 5
}
